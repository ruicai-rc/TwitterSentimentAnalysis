{
 "cells": [
  {
   "cell_type": "code",
   "execution_count": null,
   "metadata": {
    "application/vnd.databricks.v1+cell": {
     "cellMetadata": {},
     "inputWidgets": {},
     "nuid": "4490a559-391c-486b-bd82-1a8002ecc34d",
     "showTitle": false,
     "title": ""
    }
   },
   "outputs": [],
   "source": [
    "# pip install textblob"
   ]
  },
  {
   "cell_type": "code",
   "execution_count": 0,
   "metadata": {
    "application/vnd.databricks.v1+cell": {
     "cellMetadata": {},
     "inputWidgets": {},
     "nuid": "67bb258d-3703-42f6-950d-8ee3b6868878",
     "showTitle": false,
     "title": ""
    }
   },
   "outputs": [],
   "source": [
    "from pyspark.sql import SparkSession\n",
    "from pyspark.sql.types import *\n",
    "import pyspark.sql.functions as F\n",
    "\n",
    "import numpy as np\n",
    "from sklearn.datasets import make_classification\n",
    "from sklearn.model_selection import train_test_split\n",
    "from sklearn.ensemble import RandomForestClassifier\n",
    "from sklearn.model_selection import GridSearchCV\n",
    "import pandas as pd\n",
    "import sklearn\n",
    "from textblob import TextBlob\n",
    "\n",
    "from pyspark.ml.feature import NGram, VectorAssembler, StopWordsRemover, HashingTF, IDF, Tokenizer, StringIndexer\n",
    "from pyspark.ml.classification import LogisticRegression\n",
    "from pyspark.ml import Pipeline\n",
    "from pyspark.ml.evaluation import BinaryClassificationEvaluator\n",
    "\n",
    "from pyspark.ml import Pipeline\n",
    "from pyspark.ml.feature import CountVectorizer\n",
    "from pyspark.ml.feature import HashingTF, IDF, Tokenizer"
   ]
  },
  {
   "cell_type": "code",
   "execution_count": 0,
   "metadata": {
    "application/vnd.databricks.v1+cell": {
     "cellMetadata": {},
     "inputWidgets": {},
     "nuid": "7c865e56-0aaf-4d06-b442-882121770167",
     "showTitle": false,
     "title": ""
    }
   },
   "outputs": [
    {
     "data": {
      "text/plain": [
       "Session created\n"
      ]
     },
     "metadata": {
      "application/vnd.databricks.v1+output": {
       "addedWidgets": {},
       "arguments": {},
       "data": "Session created\n",
       "datasetInfos": [],
       "metadata": {},
       "removedWidgets": [],
       "type": "ansi"
      }
     },
     "output_type": "display_data"
    }
   ],
   "source": [
    "spark = SparkSession \\\n",
    "        .builder \\\n",
    "        .appName('Twitter Sentiment Analysis') \\\n",
    "        .getOrCreate()\n",
    "print('Session created')\n",
    "\n",
    "sc = spark.sparkContext"
   ]
  },
  {
   "cell_type": "markdown",
   "metadata": {
    "application/vnd.databricks.v1+cell": {
     "cellMetadata": {},
     "inputWidgets": {},
     "nuid": "a5e21855-febd-4a57-93d1-3fe3a6d14cbf",
     "showTitle": false,
     "title": ""
    }
   },
   "source": [
    "## 1. Import data"
   ]
  },
  {
   "cell_type": "code",
   "execution_count": 0,
   "metadata": {
    "application/vnd.databricks.v1+cell": {
     "cellMetadata": {},
     "inputWidgets": {},
     "nuid": "2a689325-0ff3-47b7-81d5-cff4a2e155d8",
     "showTitle": false,
     "title": ""
    }
   },
   "outputs": [],
   "source": [
    "Schema = StructType([\n",
    "  StructField(\"id\", StringType(), True),\n",
    "  StructField(\"name\", StringType(), True),\n",
    "  StructField(\"screen_name\", StringType(), True),\n",
    "    StructField(\"text\", StringType(), True),\n",
    "    StructField(\"followers_count\", StringType(), True),\n",
    "    StructField(\"location\", StringType(), True),\n",
    "    StructField(\"geo\", StringType(), True),\n",
    "    StructField(\"created_at\", StringType(), True)\n",
    "])"
   ]
  },
  {
   "cell_type": "code",
   "execution_count": 0,
   "metadata": {
    "application/vnd.databricks.v1+cell": {
     "cellMetadata": {},
     "inputWidgets": {},
     "nuid": "7a4ed769-58e6-4a27-98bb-05ea2fabb956",
     "showTitle": false,
     "title": ""
    }
   },
   "outputs": [],
   "source": [
    "tweets = spark.read.option('delimiter', '\\t').schema(Schema).csv('/mnt/project_twitter/ClimateChange/2022/08/*/*/*')"
   ]
  },
  {
   "cell_type": "code",
   "execution_count": 0,
   "metadata": {
    "application/vnd.databricks.v1+cell": {
     "cellMetadata": {},
     "inputWidgets": {},
     "nuid": "196bb78b-3dfe-4d05-b5b3-0c583221f3a4",
     "showTitle": false,
     "title": ""
    }
   },
   "outputs": [
    {
     "data": {
      "text/plain": [
       "Out[5]: 69304"
      ]
     },
     "metadata": {
      "application/vnd.databricks.v1+output": {
       "addedWidgets": {},
       "arguments": {},
       "data": "Out[5]: 69304",
       "datasetInfos": [],
       "metadata": {},
       "removedWidgets": [],
       "type": "ansi"
      }
     },
     "output_type": "display_data"
    }
   ],
   "source": [
    "tweets.count()"
   ]
  },
  {
   "cell_type": "code",
   "execution_count": 0,
   "metadata": {
    "application/vnd.databricks.v1+cell": {
     "cellMetadata": {},
     "inputWidgets": {},
     "nuid": "1c2b9fd3-35f4-4500-b8f2-a5ab19cea3b9",
     "showTitle": false,
     "title": ""
    }
   },
   "outputs": [
    {
     "data": {
      "text/plain": [
       "Out[38]: 69304"
      ]
     },
     "metadata": {
      "application/vnd.databricks.v1+output": {
       "addedWidgets": {},
       "arguments": {},
       "data": "Out[38]: 69304",
       "datasetInfos": [],
       "metadata": {},
       "removedWidgets": [],
       "type": "ansi"
      }
     },
     "output_type": "display_data"
    }
   ],
   "source": [
    "# cache the dataframe for faster iteration\n",
    "tweets.cache() \n",
    "\n",
    "# run the count action to materialize the cache\n",
    "tweets.count()"
   ]
  },
  {
   "cell_type": "code",
   "execution_count": 0,
   "metadata": {
    "application/vnd.databricks.v1+cell": {
     "cellMetadata": {},
     "inputWidgets": {},
     "nuid": "9cafcb74-f0ee-4360-97b6-a8e344f38086",
     "showTitle": false,
     "title": ""
    }
   },
   "outputs": [],
   "source": [
    "# tweets.unpersist()"
   ]
  },
  {
   "cell_type": "code",
   "execution_count": 0,
   "metadata": {
    "application/vnd.databricks.v1+cell": {
     "cellMetadata": {},
     "inputWidgets": {},
     "nuid": "bb6cf846-6023-4c6f-9e1a-f5f7aa31620d",
     "showTitle": false,
     "title": ""
    }
   },
   "outputs": [
    {
     "data": {
      "text/html": [
       "<style scoped>\n",
       "  .table-result-container {\n",
       "    max-height: 300px;\n",
       "    overflow: auto;\n",
       "  }\n",
       "  table, th, td {\n",
       "    border: 1px solid black;\n",
       "    border-collapse: collapse;\n",
       "  }\n",
       "  th, td {\n",
       "    padding: 5px;\n",
       "  }\n",
       "  th {\n",
       "    text-align: left;\n",
       "  }\n",
       "</style><div class='table-result-container'><table class='table-result'><thead style='background-color: white'><tr><th>id</th><th>name</th><th>screen_name</th><th>text</th><th>followers_count</th><th>location</th><th>geo</th><th>created_at</th></tr></thead><tbody><tr><td>1562194217530757120</td><td>Steve McEllistrem</td><td>SteveMcEllis</td><td>We don’t really need to make any sacrifices because of climate change. We can just leave all the suffering to our descendants.</td><td>113547</td><td>None</td><td>None</td><td>Tue Aug 23 21:45:00 +0000 2022</td></tr><tr><td>1562194217685893120</td><td>Solaris House Music</td><td>SolarisHouseM</td><td>\"Island in the Sky\" https://t.co/5l9ZVDo3e0 via @YouTube  You want to see climate change... turn your eyes to our L… https://t.co/3l8SNq2QGc</td><td>62</td><td>None</td><td>None</td><td>Tue Aug 23 21:45:00 +0000 2022</td></tr><tr><td>1562194221968154626</td><td>Cletus Anderson</td><td>CletusAnderson6</td><td>@GOP Look at the bill people before you think it's not going to help tackle climate change and help with inflation,… https://t.co/o7mMI1Wd0W</td><td>142</td><td>Upstate New York </td><td>None</td><td>Tue Aug 23 21:45:01 +0000 2022</td></tr><tr><td>1562194223386234881</td><td>MicroMonde</td><td>MondeMicro</td><td>RT @TheRealKeean: These are part of the schematic drawings. They detail Trudeau's plan to build an armoury for his new Climate Enforcement…</td><td>1873</td><td>Canada</td><td>None</td><td>Tue Aug 23 21:45:01 +0000 2022</td></tr><tr><td>1562194223398473733</td><td>Consersative Guy49</td><td>WalterMatthew46</td><td>RT @Felicity2024: Could any of you name a bigger scam than climate change?</td><td>1282</td><td>Somewhere In The USA...</td><td>None</td><td>Tue Aug 23 21:45:01 +0000 2022</td></tr></tbody></table></div>"
      ]
     },
     "metadata": {
      "application/vnd.databricks.v1+output": {
       "addedWidgets": {},
       "aggData": [],
       "aggError": "",
       "aggOverflow": false,
       "aggSchema": [],
       "aggSeriesLimitReached": false,
       "aggType": "",
       "arguments": {},
       "columnCustomDisplayInfos": {},
       "data": [
        [
         "1562194217530757120",
         "Steve McEllistrem",
         "SteveMcEllis",
         "We don’t really need to make any sacrifices because of climate change. We can just leave all the suffering to our descendants.",
         "113547",
         "None",
         "None",
         "Tue Aug 23 21:45:00 +0000 2022"
        ],
        [
         "1562194217685893120",
         "Solaris House Music",
         "SolarisHouseM",
         "\"Island in the Sky\" https://t.co/5l9ZVDo3e0 via @YouTube  You want to see climate change... turn your eyes to our L… https://t.co/3l8SNq2QGc",
         "62",
         "None",
         "None",
         "Tue Aug 23 21:45:00 +0000 2022"
        ],
        [
         "1562194221968154626",
         "Cletus Anderson",
         "CletusAnderson6",
         "@GOP Look at the bill people before you think it's not going to help tackle climate change and help with inflation,… https://t.co/o7mMI1Wd0W",
         "142",
         "Upstate New York ",
         "None",
         "Tue Aug 23 21:45:01 +0000 2022"
        ],
        [
         "1562194223386234881",
         "MicroMonde",
         "MondeMicro",
         "RT @TheRealKeean: These are part of the schematic drawings. They detail Trudeau's plan to build an armoury for his new Climate Enforcement…",
         "1873",
         "Canada",
         "None",
         "Tue Aug 23 21:45:01 +0000 2022"
        ],
        [
         "1562194223398473733",
         "Consersative Guy49",
         "WalterMatthew46",
         "RT @Felicity2024: Could any of you name a bigger scam than climate change?",
         "1282",
         "Somewhere In The USA...",
         "None",
         "Tue Aug 23 21:45:01 +0000 2022"
        ]
       ],
       "datasetInfos": [],
       "dbfsResultPath": null,
       "isJsonSchema": true,
       "metadata": {},
       "overflow": false,
       "plotOptions": {
        "customPlotOptions": {},
        "displayType": "table",
        "pivotAggregation": null,
        "pivotColumns": null,
        "xColumns": null,
        "yColumns": null
       },
       "removedWidgets": [],
       "schema": [
        {
         "metadata": "{}",
         "name": "id",
         "type": "\"string\""
        },
        {
         "metadata": "{}",
         "name": "name",
         "type": "\"string\""
        },
        {
         "metadata": "{}",
         "name": "screen_name",
         "type": "\"string\""
        },
        {
         "metadata": "{}",
         "name": "text",
         "type": "\"string\""
        },
        {
         "metadata": "{}",
         "name": "followers_count",
         "type": "\"string\""
        },
        {
         "metadata": "{}",
         "name": "location",
         "type": "\"string\""
        },
        {
         "metadata": "{}",
         "name": "geo",
         "type": "\"string\""
        },
        {
         "metadata": "{}",
         "name": "created_at",
         "type": "\"string\""
        }
       ],
       "type": "table"
      }
     },
     "output_type": "display_data"
    }
   ],
   "source": [
    "display(tweets.take(5))"
   ]
  },
  {
   "cell_type": "code",
   "execution_count": null,
   "metadata": {
    "application/vnd.databricks.v1+cell": {
     "cellMetadata": {},
     "inputWidgets": {},
     "nuid": "ea3d8bad-d959-400c-83e8-ad3ac58c2e95",
     "showTitle": false,
     "title": ""
    },
    "scrolled": false
   },
   "outputs": [],
   "source": [
    "tweets_clean = tweets.withColumn('text', F.regexp_replace('text', r\"http\\S+\", \"\")) \\\n",
    "                     .withColumn('text', F.regexp_replace('text', r\"[^ 'a-zA-Z0-9,.?!@#a]\", \" \")) \\\n",
    "                     .withColumn('text', F.regexp_replace('text', r\"\\s+\", \" \")) \\\n",
    "                     .withColumn('text', F.lower('text')) \\\n",
    "                     .withColumn('text', F.trim('text'))\n",
    "display(tweets_clean)"
   ]
  },
  {
   "cell_type": "code",
   "execution_count": null,
   "metadata": {
    "application/vnd.databricks.v1+cell": {
     "cellMetadata": {},
     "inputWidgets": {},
     "nuid": "27ec3e19-a393-426b-9bd8-e356939ef3e0",
     "showTitle": false,
     "title": ""
    }
   },
   "outputs": [],
   "source": [
    "split_text = F.split(tweets_clean['text'], 'rt')\n",
    "tweets_clean = tweets_clean.select('*', split_text.getItem(0).alias('tweet'),split_text.getItem(1).alias('retweet'))   \n",
    "display(tweets_clean)"
   ]
  },
  {
   "cell_type": "code",
   "execution_count": null,
   "metadata": {
    "application/vnd.databricks.v1+cell": {
     "cellMetadata": {},
     "inputWidgets": {},
     "nuid": "6253857a-71b8-42c8-a04f-be6bf6f7603b",
     "showTitle": false,
     "title": ""
    },
    "scrolled": true
   },
   "outputs": [],
   "source": [
    "# spark split column: https://sparkbyexamples.com/pyspark/pyspark-split-dataframe-column-into-multiple-columns/\n",
    "\n",
    "split_date = F.split(tweets_clean['created_at'], ' ')\n",
    "tweets_clean = tweets_clean.select('*', \n",
    "                                   split_date.getItem(1).alias('month'),\n",
    "                                   split_date.getItem(2).alias('day'),\n",
    "                                   split_date.getItem(3).alias('time'),\n",
    "                                   split_date.getItem(5).alias('year'))   \n",
    "display(tweets_clean)"
   ]
  },
  {
   "cell_type": "code",
   "execution_count": null,
   "metadata": {
    "application/vnd.databricks.v1+cell": {
     "cellMetadata": {},
     "inputWidgets": {},
     "nuid": "7c560e5b-8c7d-4b39-b182-1a6135e22ffe",
     "showTitle": false,
     "title": ""
    }
   },
   "outputs": [],
   "source": [
    "split_time = F.split(tweets_clean['time'], ':')\n",
    "tweets_clean = tweets_clean.select('*', \n",
    "                                   split_time.getItem(0).alias('hour'),\n",
    "                                   split_time.getItem(1).alias('minute'))   \n",
    "display(tweets_clean)"
   ]
  },
  {
   "cell_type": "markdown",
   "metadata": {
    "application/vnd.databricks.v1+cell": {
     "cellMetadata": {},
     "inputWidgets": {},
     "nuid": "378fa3c3-796f-4eab-b288-1e9707a768cf",
     "showTitle": false,
     "title": ""
    }
   },
   "source": [
    "## Sentiment Labelling"
   ]
  },
  {
   "cell_type": "code",
   "execution_count": 0,
   "metadata": {
    "application/vnd.databricks.v1+cell": {
     "cellMetadata": {},
     "inputWidgets": {},
     "nuid": "7a6507f0-713a-430f-9c25-19ba0b4cd4fb",
     "showTitle": false,
     "title": ""
    }
   },
   "outputs": [],
   "source": [
    "pandasDF = tweets_clean.toPandas()"
   ]
  },
  {
   "cell_type": "code",
   "execution_count": 0,
   "metadata": {
    "application/vnd.databricks.v1+cell": {
     "cellMetadata": {},
     "inputWidgets": {},
     "nuid": "5f6ff0f0-829c-4fe9-ab57-78ea10459ac9",
     "showTitle": false,
     "title": ""
    }
   },
   "outputs": [],
   "source": [
    "pandasDF = pandasDF[pandasDF['text'].notna()]"
   ]
  },
  {
   "cell_type": "code",
   "execution_count": 0,
   "metadata": {
    "application/vnd.databricks.v1+cell": {
     "cellMetadata": {},
     "inputWidgets": {},
     "nuid": "a806d620-5d35-4cca-919c-21f1bc32b656",
     "showTitle": false,
     "title": ""
    }
   },
   "outputs": [
    {
     "data": {
      "text/plain": [
       "<class 'pandas.core.frame.DataFrame'>\n",
       "Int64Index: 69276 entries, 0 to 69303\n",
       "Data columns (total 10 columns):\n",
       " #   Column           Non-Null Count  Dtype \n",
       "---  ------           --------------  ----- \n",
       " 0   id               69276 non-null  object\n",
       " 1   name             69273 non-null  object\n",
       " 2   screen_name      69276 non-null  object\n",
       " 3   text             69276 non-null  object\n",
       " 4   followers_count  69142 non-null  object\n",
       " 5   location         69142 non-null  object\n",
       " 6   geo              69118 non-null  object\n",
       " 7   created_at       69118 non-null  object\n",
       " 8   tweet            69276 non-null  object\n",
       " 9   retweet          54017 non-null  object\n",
       "dtypes: object(10)\n",
       "memory usage: 5.8+ MB\n"
      ]
     },
     "metadata": {
      "application/vnd.databricks.v1+output": {
       "addedWidgets": {},
       "arguments": {},
       "data": "<class 'pandas.core.frame.DataFrame'>\nInt64Index: 69276 entries, 0 to 69303\nData columns (total 10 columns):\n #   Column           Non-Null Count  Dtype \n---  ------           --------------  ----- \n 0   id               69276 non-null  object\n 1   name             69273 non-null  object\n 2   screen_name      69276 non-null  object\n 3   text             69276 non-null  object\n 4   followers_count  69142 non-null  object\n 5   location         69142 non-null  object\n 6   geo              69118 non-null  object\n 7   created_at       69118 non-null  object\n 8   tweet            69276 non-null  object\n 9   retweet          54017 non-null  object\ndtypes: object(10)\nmemory usage: 5.8+ MB\n",
       "datasetInfos": [],
       "metadata": {},
       "removedWidgets": [],
       "type": "ansi"
      }
     },
     "output_type": "display_data"
    }
   ],
   "source": [
    "pandasDF.info()"
   ]
  },
  {
   "cell_type": "code",
   "execution_count": 0,
   "metadata": {
    "application/vnd.databricks.v1+cell": {
     "cellMetadata": {},
     "inputWidgets": {},
     "nuid": "3c9173cc-b1cd-4104-8d21-9aee7b7ef2b7",
     "showTitle": false,
     "title": ""
    }
   },
   "outputs": [
    {
     "data": {
      "text/plain": [
       "Out[11]: 69276"
      ]
     },
     "metadata": {
      "application/vnd.databricks.v1+output": {
       "addedWidgets": {},
       "arguments": {},
       "data": "Out[11]: 69276",
       "datasetInfos": [],
       "metadata": {},
       "removedWidgets": [],
       "type": "ansi"
      }
     },
     "output_type": "display_data"
    }
   ],
   "source": [
    "pandasDF['id'].nunique()"
   ]
  },
  {
   "cell_type": "code",
   "execution_count": 0,
   "metadata": {
    "application/vnd.databricks.v1+cell": {
     "cellMetadata": {},
     "inputWidgets": {},
     "nuid": "3483934a-3ae0-4d67-bd92-23d20d63a684",
     "showTitle": false,
     "title": ""
    }
   },
   "outputs": [
    {
     "data": {
      "text/html": [
       "<div>\n",
       "<style scoped>\n",
       "    .dataframe tbody tr th:only-of-type {\n",
       "        vertical-align: middle;\n",
       "    }\n",
       "\n",
       "    .dataframe tbody tr th {\n",
       "        vertical-align: top;\n",
       "    }\n",
       "\n",
       "    .dataframe thead th {\n",
       "        text-align: right;\n",
       "    }\n",
       "</style>\n",
       "<table border=\"1\" class=\"dataframe\">\n",
       "  <thead>\n",
       "    <tr style=\"text-align: right;\">\n",
       "      <th></th>\n",
       "      <th>id</th>\n",
       "      <th>name</th>\n",
       "      <th>screen_name</th>\n",
       "      <th>text</th>\n",
       "      <th>followers_count</th>\n",
       "      <th>location</th>\n",
       "      <th>created_at</th>\n",
       "      <th>tweet</th>\n",
       "      <th>retweet</th>\n",
       "    </tr>\n",
       "    <tr>\n",
       "      <th>geo</th>\n",
       "      <th></th>\n",
       "      <th></th>\n",
       "      <th></th>\n",
       "      <th></th>\n",
       "      <th></th>\n",
       "      <th></th>\n",
       "      <th></th>\n",
       "      <th></th>\n",
       "      <th></th>\n",
       "    </tr>\n",
       "  </thead>\n",
       "  <tbody>\n",
       "    <tr>\n",
       "      <th>None</th>\n",
       "      <td>69116</td>\n",
       "      <td>49607</td>\n",
       "      <td>51782</td>\n",
       "      <td>23251</td>\n",
       "      <td>9844</td>\n",
       "      <td>15257</td>\n",
       "      <td>43362</td>\n",
       "      <td>16597</td>\n",
       "      <td>9058</td>\n",
       "    </tr>\n",
       "    <tr>\n",
       "      <th>{'type': 'Point', 'coordinates': [40.0, -74.5]}</th>\n",
       "      <td>1</td>\n",
       "      <td>1</td>\n",
       "      <td>1</td>\n",
       "      <td>1</td>\n",
       "      <td>1</td>\n",
       "      <td>1</td>\n",
       "      <td>1</td>\n",
       "      <td>1</td>\n",
       "      <td>0</td>\n",
       "    </tr>\n",
       "    <tr>\n",
       "      <th>{'type': 'Point', 'coordinates': [40.73, -74.08]}</th>\n",
       "      <td>1</td>\n",
       "      <td>1</td>\n",
       "      <td>1</td>\n",
       "      <td>1</td>\n",
       "      <td>1</td>\n",
       "      <td>1</td>\n",
       "      <td>1</td>\n",
       "      <td>1</td>\n",
       "      <td>0</td>\n",
       "    </tr>\n",
       "  </tbody>\n",
       "</table>\n",
       "</div>"
      ]
     },
     "metadata": {
      "application/vnd.databricks.v1+output": {
       "addedWidgets": {},
       "arguments": {},
       "data": "<div>\n<style scoped>\n    .dataframe tbody tr th:only-of-type {\n        vertical-align: middle;\n    }\n\n    .dataframe tbody tr th {\n        vertical-align: top;\n    }\n\n    .dataframe thead th {\n        text-align: right;\n    }\n</style>\n<table border=\"1\" class=\"dataframe\">\n  <thead>\n    <tr style=\"text-align: right;\">\n      <th></th>\n      <th>id</th>\n      <th>name</th>\n      <th>screen_name</th>\n      <th>text</th>\n      <th>followers_count</th>\n      <th>location</th>\n      <th>created_at</th>\n      <th>tweet</th>\n      <th>retweet</th>\n    </tr>\n    <tr>\n      <th>geo</th>\n      <th></th>\n      <th></th>\n      <th></th>\n      <th></th>\n      <th></th>\n      <th></th>\n      <th></th>\n      <th></th>\n      <th></th>\n    </tr>\n  </thead>\n  <tbody>\n    <tr>\n      <th>None</th>\n      <td>69116</td>\n      <td>49607</td>\n      <td>51782</td>\n      <td>23251</td>\n      <td>9844</td>\n      <td>15257</td>\n      <td>43362</td>\n      <td>16597</td>\n      <td>9058</td>\n    </tr>\n    <tr>\n      <th>{'type': 'Point', 'coordinates': [40.0, -74.5]}</th>\n      <td>1</td>\n      <td>1</td>\n      <td>1</td>\n      <td>1</td>\n      <td>1</td>\n      <td>1</td>\n      <td>1</td>\n      <td>1</td>\n      <td>0</td>\n    </tr>\n    <tr>\n      <th>{'type': 'Point', 'coordinates': [40.73, -74.08]}</th>\n      <td>1</td>\n      <td>1</td>\n      <td>1</td>\n      <td>1</td>\n      <td>1</td>\n      <td>1</td>\n      <td>1</td>\n      <td>1</td>\n      <td>0</td>\n    </tr>\n  </tbody>\n</table>\n</div>",
       "datasetInfos": [],
       "metadata": {},
       "removedWidgets": [],
       "textData": null,
       "type": "htmlSandbox"
      }
     },
     "output_type": "display_data"
    }
   ],
   "source": [
    "pandasDF.groupby('geo').nunique()"
   ]
  },
  {
   "cell_type": "code",
   "execution_count": 0,
   "metadata": {
    "application/vnd.databricks.v1+cell": {
     "cellMetadata": {},
     "inputWidgets": {},
     "nuid": "686597e3-bb93-4359-b71b-fc175b304a39",
     "showTitle": false,
     "title": ""
    }
   },
   "outputs": [],
   "source": [
    "def sentiment_analysis(tweet):\n",
    "    def getSubjectivity(text):\n",
    "        return TextBlob(text).sentiment.subjectivity\n",
    "  \n",
    " #Create a function to get the polarity\n",
    "    def getPolarity(text):\n",
    "        return TextBlob(text).sentiment.polarity\n",
    "  \n",
    " #Create two new columns ‘Subjectivity’ & ‘Polarity’\n",
    "    tweet['subjectivity'] = tweet['text'].apply(getSubjectivity)\n",
    "    tweet['polarity'] = tweet['text'].apply(getPolarity)\n",
    "    def getAnalysis(score):\n",
    "        if score < 0:\n",
    "            return 'Negative'\n",
    "        elif score == 0:\n",
    "            return 'Neutral'\n",
    "        else:\n",
    "            return 'Positive'\n",
    "    tweet['sentiment'] = tweet['polarity'].apply(getAnalysis )\n",
    "    return tweet"
   ]
  },
  {
   "cell_type": "code",
   "execution_count": 0,
   "metadata": {
    "application/vnd.databricks.v1+cell": {
     "cellMetadata": {},
     "inputWidgets": {},
     "nuid": "b9e84c7f-d050-4ef5-bd12-de76c9263f2a",
     "showTitle": false,
     "title": ""
    }
   },
   "outputs": [
    {
     "data": {
      "text/html": [
       "<div>\n",
       "<style scoped>\n",
       "    .dataframe tbody tr th:only-of-type {\n",
       "        vertical-align: middle;\n",
       "    }\n",
       "\n",
       "    .dataframe tbody tr th {\n",
       "        vertical-align: top;\n",
       "    }\n",
       "\n",
       "    .dataframe thead th {\n",
       "        text-align: right;\n",
       "    }\n",
       "</style>\n",
       "<table border=\"1\" class=\"dataframe\">\n",
       "  <thead>\n",
       "    <tr style=\"text-align: right;\">\n",
       "      <th></th>\n",
       "      <th>id</th>\n",
       "      <th>name</th>\n",
       "      <th>screen_name</th>\n",
       "      <th>text</th>\n",
       "      <th>followers_count</th>\n",
       "      <th>location</th>\n",
       "      <th>geo</th>\n",
       "      <th>created_at</th>\n",
       "      <th>tweet</th>\n",
       "      <th>retweet</th>\n",
       "      <th>month</th>\n",
       "      <th>day</th>\n",
       "      <th>time</th>\n",
       "      <th>year</th>\n",
       "      <th>hour</th>\n",
       "      <th>minute</th>\n",
       "      <th>subjectivity</th>\n",
       "      <th>polarity</th>\n",
       "      <th>sentiment</th>\n",
       "    </tr>\n",
       "  </thead>\n",
       "  <tbody>\n",
       "    <tr>\n",
       "      <th>0</th>\n",
       "      <td>1562194217530757120</td>\n",
       "      <td>Steve McEllistrem</td>\n",
       "      <td>SteveMcEllis</td>\n",
       "      <td>we don t really need to make any sacrifices be...</td>\n",
       "      <td>113547</td>\n",
       "      <td>None</td>\n",
       "      <td>None</td>\n",
       "      <td>Tue Aug 23 21:45:00 +0000 2022</td>\n",
       "      <td>we don t really need to make any sacrifices be...</td>\n",
       "      <td>None</td>\n",
       "      <td>Aug</td>\n",
       "      <td>23</td>\n",
       "      <td>21:45:00</td>\n",
       "      <td>2022</td>\n",
       "      <td>21</td>\n",
       "      <td>45</td>\n",
       "      <td>0.200000</td>\n",
       "      <td>0.200000</td>\n",
       "      <td>Positive</td>\n",
       "    </tr>\n",
       "    <tr>\n",
       "      <th>1</th>\n",
       "      <td>1562194217685893120</td>\n",
       "      <td>Solaris House Music</td>\n",
       "      <td>SolarisHouseM</td>\n",
       "      <td>island in the sky via @youtube you want to see...</td>\n",
       "      <td>62</td>\n",
       "      <td>None</td>\n",
       "      <td>None</td>\n",
       "      <td>Tue Aug 23 21:45:00 +0000 2022</td>\n",
       "      <td>island in the sky via @youtube you want to see...</td>\n",
       "      <td>None</td>\n",
       "      <td>Aug</td>\n",
       "      <td>23</td>\n",
       "      <td>21:45:00</td>\n",
       "      <td>2022</td>\n",
       "      <td>21</td>\n",
       "      <td>45</td>\n",
       "      <td>0.000000</td>\n",
       "      <td>0.000000</td>\n",
       "      <td>Neutral</td>\n",
       "    </tr>\n",
       "    <tr>\n",
       "      <th>2</th>\n",
       "      <td>1562194221968154626</td>\n",
       "      <td>Cletus Anderson</td>\n",
       "      <td>CletusAnderson6</td>\n",
       "      <td>@gop look at the bill people before you think ...</td>\n",
       "      <td>142</td>\n",
       "      <td>Upstate New York</td>\n",
       "      <td>None</td>\n",
       "      <td>Tue Aug 23 21:45:01 +0000 2022</td>\n",
       "      <td>@gop look at the bill people before you think ...</td>\n",
       "      <td>None</td>\n",
       "      <td>Aug</td>\n",
       "      <td>23</td>\n",
       "      <td>21:45:01</td>\n",
       "      <td>2022</td>\n",
       "      <td>21</td>\n",
       "      <td>45</td>\n",
       "      <td>0.000000</td>\n",
       "      <td>0.000000</td>\n",
       "      <td>Neutral</td>\n",
       "    </tr>\n",
       "    <tr>\n",
       "      <th>3</th>\n",
       "      <td>1562194223386234881</td>\n",
       "      <td>MicroMonde</td>\n",
       "      <td>MondeMicro</td>\n",
       "      <td>rt @therealkeean these are part of the schemat...</td>\n",
       "      <td>1873</td>\n",
       "      <td>Canada</td>\n",
       "      <td>None</td>\n",
       "      <td>Tue Aug 23 21:45:01 +0000 2022</td>\n",
       "      <td></td>\n",
       "      <td>@therealkeean these are pa</td>\n",
       "      <td>Aug</td>\n",
       "      <td>23</td>\n",
       "      <td>21:45:01</td>\n",
       "      <td>2022</td>\n",
       "      <td>21</td>\n",
       "      <td>45</td>\n",
       "      <td>0.454545</td>\n",
       "      <td>0.136364</td>\n",
       "      <td>Positive</td>\n",
       "    </tr>\n",
       "    <tr>\n",
       "      <th>4</th>\n",
       "      <td>1562194223398473733</td>\n",
       "      <td>Consersative Guy49</td>\n",
       "      <td>WalterMatthew46</td>\n",
       "      <td>rt @felicity2024 could any of you name a bigge...</td>\n",
       "      <td>1282</td>\n",
       "      <td>Somewhere In The USA...</td>\n",
       "      <td>None</td>\n",
       "      <td>Tue Aug 23 21:45:01 +0000 2022</td>\n",
       "      <td></td>\n",
       "      <td>@felicity2024 could any of you name a bigger ...</td>\n",
       "      <td>Aug</td>\n",
       "      <td>23</td>\n",
       "      <td>21:45:01</td>\n",
       "      <td>2022</td>\n",
       "      <td>21</td>\n",
       "      <td>45</td>\n",
       "      <td>0.500000</td>\n",
       "      <td>0.000000</td>\n",
       "      <td>Neutral</td>\n",
       "    </tr>\n",
       "    <tr>\n",
       "      <th>...</th>\n",
       "      <td>...</td>\n",
       "      <td>...</td>\n",
       "      <td>...</td>\n",
       "      <td>...</td>\n",
       "      <td>...</td>\n",
       "      <td>...</td>\n",
       "      <td>...</td>\n",
       "      <td>...</td>\n",
       "      <td>...</td>\n",
       "      <td>...</td>\n",
       "      <td>...</td>\n",
       "      <td>...</td>\n",
       "      <td>...</td>\n",
       "      <td>...</td>\n",
       "      <td>...</td>\n",
       "      <td>...</td>\n",
       "      <td>...</td>\n",
       "      <td>...</td>\n",
       "      <td>...</td>\n",
       "    </tr>\n",
       "    <tr>\n",
       "      <th>69299</th>\n",
       "      <td>1562366262336000000</td>\n",
       "      <td>Shanar Tabrizi</td>\n",
       "      <td>Schwanar</td>\n",
       "      <td>rt @menrywy i'm happy to post my climate chang...</td>\n",
       "      <td>342</td>\n",
       "      <td>Copenhagen, Denmark</td>\n",
       "      <td>None</td>\n",
       "      <td>Wed Aug 24 09:08:38 +0000 2022</td>\n",
       "      <td></td>\n",
       "      <td>@menrywy i'm happy to post my climate change ...</td>\n",
       "      <td>Aug</td>\n",
       "      <td>24</td>\n",
       "      <td>09:08:38</td>\n",
       "      <td>2022</td>\n",
       "      <td>09</td>\n",
       "      <td>08</td>\n",
       "      <td>0.507071</td>\n",
       "      <td>0.312121</td>\n",
       "      <td>Positive</td>\n",
       "    </tr>\n",
       "    <tr>\n",
       "      <th>69300</th>\n",
       "      <td>1562366264588308480</td>\n",
       "      <td>Cyril Payen</td>\n",
       "      <td>payenc</td>\n",
       "      <td>rt @afp #breaking macron warns france 'sacrifi...</td>\n",
       "      <td>6176</td>\n",
       "      <td>Paris, France</td>\n",
       "      <td>None</td>\n",
       "      <td>Wed Aug 24 09:08:39 +0000 2022</td>\n",
       "      <td></td>\n",
       "      <td>@afp #breaking macron warns france 'sacrifice...</td>\n",
       "      <td>Aug</td>\n",
       "      <td>24</td>\n",
       "      <td>09:08:39</td>\n",
       "      <td>2022</td>\n",
       "      <td>09</td>\n",
       "      <td>08</td>\n",
       "      <td>0.427273</td>\n",
       "      <td>0.068182</td>\n",
       "      <td>Positive</td>\n",
       "    </tr>\n",
       "    <tr>\n",
       "      <th>69301</th>\n",
       "      <td>1562366274927296513</td>\n",
       "      <td>Paul Williams</td>\n",
       "      <td>PaulWil40857916</td>\n",
       "      <td>rt @pgdynes let s be clear no carbon capture b...</td>\n",
       "      <td>64</td>\n",
       "      <td>None</td>\n",
       "      <td>None</td>\n",
       "      <td>Wed Aug 24 09:08:41 +0000 2022</td>\n",
       "      <td></td>\n",
       "      <td>@pgdynes let s be clear no carbon capture bus...</td>\n",
       "      <td>Aug</td>\n",
       "      <td>24</td>\n",
       "      <td>09:08:41</td>\n",
       "      <td>2022</td>\n",
       "      <td>09</td>\n",
       "      <td>08</td>\n",
       "      <td>0.383333</td>\n",
       "      <td>0.100000</td>\n",
       "      <td>Positive</td>\n",
       "    </tr>\n",
       "    <tr>\n",
       "      <th>69302</th>\n",
       "      <td>1562366307047297024</td>\n",
       "      <td>Freedom’s Ghost 🇬🇧</td>\n",
       "      <td>Grimysapien</td>\n",
       "      <td>rt @incrementallog1 @et sharing @michaelpbreto...</td>\n",
       "      <td>1162</td>\n",
       "      <td>Everywhere</td>\n",
       "      <td>None</td>\n",
       "      <td>Wed Aug 24 09:08:49 +0000 2022</td>\n",
       "      <td></td>\n",
       "      <td>@incrementallog1 @et sharing @michaelpbreton ...</td>\n",
       "      <td>Aug</td>\n",
       "      <td>24</td>\n",
       "      <td>09:08:49</td>\n",
       "      <td>2022</td>\n",
       "      <td>09</td>\n",
       "      <td>08</td>\n",
       "      <td>0.000000</td>\n",
       "      <td>0.000000</td>\n",
       "      <td>Neutral</td>\n",
       "    </tr>\n",
       "    <tr>\n",
       "      <th>69303</th>\n",
       "      <td>1562366311820312576</td>\n",
       "      <td>Megan Olarte</td>\n",
       "      <td>meganolarte</td>\n",
       "      <td>rt @vanessa vash africa is one of the continen...</td>\n",
       "      <td>16</td>\n",
       "      <td>None</td>\n",
       "      <td>None</td>\n",
       "      <td>Wed Aug 24 09:08:50 +0000 2022</td>\n",
       "      <td></td>\n",
       "      <td>@vanessa vash africa is one of the continents...</td>\n",
       "      <td>Aug</td>\n",
       "      <td>24</td>\n",
       "      <td>09:08:50</td>\n",
       "      <td>2022</td>\n",
       "      <td>09</td>\n",
       "      <td>08</td>\n",
       "      <td>0.500000</td>\n",
       "      <td>0.166667</td>\n",
       "      <td>Positive</td>\n",
       "    </tr>\n",
       "  </tbody>\n",
       "</table>\n",
       "<p>69276 rows × 19 columns</p>\n",
       "</div>"
      ]
     },
     "metadata": {
      "application/vnd.databricks.v1+output": {
       "addedWidgets": {},
       "arguments": {},
       "data": "<div>\n<style scoped>\n    .dataframe tbody tr th:only-of-type {\n        vertical-align: middle;\n    }\n\n    .dataframe tbody tr th {\n        vertical-align: top;\n    }\n\n    .dataframe thead th {\n        text-align: right;\n    }\n</style>\n<table border=\"1\" class=\"dataframe\">\n  <thead>\n    <tr style=\"text-align: right;\">\n      <th></th>\n      <th>id</th>\n      <th>name</th>\n      <th>screen_name</th>\n      <th>text</th>\n      <th>followers_count</th>\n      <th>location</th>\n      <th>geo</th>\n      <th>created_at</th>\n      <th>tweet</th>\n      <th>retweet</th>\n      <th>month</th>\n      <th>day</th>\n      <th>time</th>\n      <th>year</th>\n      <th>hour</th>\n      <th>minute</th>\n      <th>subjectivity</th>\n      <th>polarity</th>\n      <th>sentiment</th>\n    </tr>\n  </thead>\n  <tbody>\n    <tr>\n      <th>0</th>\n      <td>1562194217530757120</td>\n      <td>Steve McEllistrem</td>\n      <td>SteveMcEllis</td>\n      <td>we don t really need to make any sacrifices be...</td>\n      <td>113547</td>\n      <td>None</td>\n      <td>None</td>\n      <td>Tue Aug 23 21:45:00 +0000 2022</td>\n      <td>we don t really need to make any sacrifices be...</td>\n      <td>None</td>\n      <td>Aug</td>\n      <td>23</td>\n      <td>21:45:00</td>\n      <td>2022</td>\n      <td>21</td>\n      <td>45</td>\n      <td>0.200000</td>\n      <td>0.200000</td>\n      <td>Positive</td>\n    </tr>\n    <tr>\n      <th>1</th>\n      <td>1562194217685893120</td>\n      <td>Solaris House Music</td>\n      <td>SolarisHouseM</td>\n      <td>island in the sky via @youtube you want to see...</td>\n      <td>62</td>\n      <td>None</td>\n      <td>None</td>\n      <td>Tue Aug 23 21:45:00 +0000 2022</td>\n      <td>island in the sky via @youtube you want to see...</td>\n      <td>None</td>\n      <td>Aug</td>\n      <td>23</td>\n      <td>21:45:00</td>\n      <td>2022</td>\n      <td>21</td>\n      <td>45</td>\n      <td>0.000000</td>\n      <td>0.000000</td>\n      <td>Neutral</td>\n    </tr>\n    <tr>\n      <th>2</th>\n      <td>1562194221968154626</td>\n      <td>Cletus Anderson</td>\n      <td>CletusAnderson6</td>\n      <td>@gop look at the bill people before you think ...</td>\n      <td>142</td>\n      <td>Upstate New York</td>\n      <td>None</td>\n      <td>Tue Aug 23 21:45:01 +0000 2022</td>\n      <td>@gop look at the bill people before you think ...</td>\n      <td>None</td>\n      <td>Aug</td>\n      <td>23</td>\n      <td>21:45:01</td>\n      <td>2022</td>\n      <td>21</td>\n      <td>45</td>\n      <td>0.000000</td>\n      <td>0.000000</td>\n      <td>Neutral</td>\n    </tr>\n    <tr>\n      <th>3</th>\n      <td>1562194223386234881</td>\n      <td>MicroMonde</td>\n      <td>MondeMicro</td>\n      <td>rt @therealkeean these are part of the schemat...</td>\n      <td>1873</td>\n      <td>Canada</td>\n      <td>None</td>\n      <td>Tue Aug 23 21:45:01 +0000 2022</td>\n      <td></td>\n      <td>@therealkeean these are pa</td>\n      <td>Aug</td>\n      <td>23</td>\n      <td>21:45:01</td>\n      <td>2022</td>\n      <td>21</td>\n      <td>45</td>\n      <td>0.454545</td>\n      <td>0.136364</td>\n      <td>Positive</td>\n    </tr>\n    <tr>\n      <th>4</th>\n      <td>1562194223398473733</td>\n      <td>Consersative Guy49</td>\n      <td>WalterMatthew46</td>\n      <td>rt @felicity2024 could any of you name a bigge...</td>\n      <td>1282</td>\n      <td>Somewhere In The USA...</td>\n      <td>None</td>\n      <td>Tue Aug 23 21:45:01 +0000 2022</td>\n      <td></td>\n      <td>@felicity2024 could any of you name a bigger ...</td>\n      <td>Aug</td>\n      <td>23</td>\n      <td>21:45:01</td>\n      <td>2022</td>\n      <td>21</td>\n      <td>45</td>\n      <td>0.500000</td>\n      <td>0.000000</td>\n      <td>Neutral</td>\n    </tr>\n    <tr>\n      <th>...</th>\n      <td>...</td>\n      <td>...</td>\n      <td>...</td>\n      <td>...</td>\n      <td>...</td>\n      <td>...</td>\n      <td>...</td>\n      <td>...</td>\n      <td>...</td>\n      <td>...</td>\n      <td>...</td>\n      <td>...</td>\n      <td>...</td>\n      <td>...</td>\n      <td>...</td>\n      <td>...</td>\n      <td>...</td>\n      <td>...</td>\n      <td>...</td>\n    </tr>\n    <tr>\n      <th>69299</th>\n      <td>1562366262336000000</td>\n      <td>Shanar Tabrizi</td>\n      <td>Schwanar</td>\n      <td>rt @menrywy i'm happy to post my climate chang...</td>\n      <td>342</td>\n      <td>Copenhagen, Denmark</td>\n      <td>None</td>\n      <td>Wed Aug 24 09:08:38 +0000 2022</td>\n      <td></td>\n      <td>@menrywy i'm happy to post my climate change ...</td>\n      <td>Aug</td>\n      <td>24</td>\n      <td>09:08:38</td>\n      <td>2022</td>\n      <td>09</td>\n      <td>08</td>\n      <td>0.507071</td>\n      <td>0.312121</td>\n      <td>Positive</td>\n    </tr>\n    <tr>\n      <th>69300</th>\n      <td>1562366264588308480</td>\n      <td>Cyril Payen</td>\n      <td>payenc</td>\n      <td>rt @afp #breaking macron warns france 'sacrifi...</td>\n      <td>6176</td>\n      <td>Paris, France</td>\n      <td>None</td>\n      <td>Wed Aug 24 09:08:39 +0000 2022</td>\n      <td></td>\n      <td>@afp #breaking macron warns france 'sacrifice...</td>\n      <td>Aug</td>\n      <td>24</td>\n      <td>09:08:39</td>\n      <td>2022</td>\n      <td>09</td>\n      <td>08</td>\n      <td>0.427273</td>\n      <td>0.068182</td>\n      <td>Positive</td>\n    </tr>\n    <tr>\n      <th>69301</th>\n      <td>1562366274927296513</td>\n      <td>Paul Williams</td>\n      <td>PaulWil40857916</td>\n      <td>rt @pgdynes let s be clear no carbon capture b...</td>\n      <td>64</td>\n      <td>None</td>\n      <td>None</td>\n      <td>Wed Aug 24 09:08:41 +0000 2022</td>\n      <td></td>\n      <td>@pgdynes let s be clear no carbon capture bus...</td>\n      <td>Aug</td>\n      <td>24</td>\n      <td>09:08:41</td>\n      <td>2022</td>\n      <td>09</td>\n      <td>08</td>\n      <td>0.383333</td>\n      <td>0.100000</td>\n      <td>Positive</td>\n    </tr>\n    <tr>\n      <th>69302</th>\n      <td>1562366307047297024</td>\n      <td>Freedom’s Ghost 🇬🇧</td>\n      <td>Grimysapien</td>\n      <td>rt @incrementallog1 @et sharing @michaelpbreto...</td>\n      <td>1162</td>\n      <td>Everywhere</td>\n      <td>None</td>\n      <td>Wed Aug 24 09:08:49 +0000 2022</td>\n      <td></td>\n      <td>@incrementallog1 @et sharing @michaelpbreton ...</td>\n      <td>Aug</td>\n      <td>24</td>\n      <td>09:08:49</td>\n      <td>2022</td>\n      <td>09</td>\n      <td>08</td>\n      <td>0.000000</td>\n      <td>0.000000</td>\n      <td>Neutral</td>\n    </tr>\n    <tr>\n      <th>69303</th>\n      <td>1562366311820312576</td>\n      <td>Megan Olarte</td>\n      <td>meganolarte</td>\n      <td>rt @vanessa vash africa is one of the continen...</td>\n      <td>16</td>\n      <td>None</td>\n      <td>None</td>\n      <td>Wed Aug 24 09:08:50 +0000 2022</td>\n      <td></td>\n      <td>@vanessa vash africa is one of the continents...</td>\n      <td>Aug</td>\n      <td>24</td>\n      <td>09:08:50</td>\n      <td>2022</td>\n      <td>09</td>\n      <td>08</td>\n      <td>0.500000</td>\n      <td>0.166667</td>\n      <td>Positive</td>\n    </tr>\n  </tbody>\n</table>\n<p>69276 rows × 19 columns</p>\n</div>",
       "datasetInfos": [],
       "metadata": {},
       "removedWidgets": [],
       "textData": null,
       "type": "htmlSandbox"
      }
     },
     "output_type": "display_data"
    }
   ],
   "source": [
    "sentiment_analysis(pandasDF)"
   ]
  },
  {
   "cell_type": "code",
   "execution_count": 0,
   "metadata": {
    "application/vnd.databricks.v1+cell": {
     "cellMetadata": {},
     "inputWidgets": {},
     "nuid": "c5b2caf3-5227-47d5-8617-57d6f046117d",
     "showTitle": false,
     "title": ""
    }
   },
   "outputs": [],
   "source": [
    "labelled_tweets = spark.createDataFrame(pandasDF)"
   ]
  },
  {
   "cell_type": "code",
   "execution_count": null,
   "metadata": {
    "application/vnd.databricks.v1+cell": {
     "cellMetadata": {},
     "inputWidgets": {},
     "nuid": "1a004b9e-9afe-40a1-acc6-08fde8a51fed",
     "showTitle": false,
     "title": ""
    },
    "scrolled": false
   },
   "outputs": [],
   "source": [
    "label_encoder= StringIndexer(inputCol = \"sentiment\", outputCol = \"label\")\n",
    "encoder_model = label_encoder.fit(labelled_tweets)\n",
    "labelled_tweets = encoder_model.transform(labelled_tweets)\n",
    "\n",
    "display(labelled_tweets)"
   ]
  },
  {
   "cell_type": "code",
   "execution_count": 0,
   "metadata": {
    "application/vnd.databricks.v1+cell": {
     "cellMetadata": {},
     "inputWidgets": {},
     "nuid": "4f9d03ea-c594-4702-b9c6-30c5e6193b4e",
     "showTitle": false,
     "title": ""
    },
    "scrolled": false
   },
   "outputs": [
    {
     "data": {
      "text/html": [
       "<style scoped>\n",
       "  .table-result-container {\n",
       "    max-height: 300px;\n",
       "    overflow: auto;\n",
       "  }\n",
       "  table, th, td {\n",
       "    border: 1px solid black;\n",
       "    border-collapse: collapse;\n",
       "  }\n",
       "  th, td {\n",
       "    padding: 5px;\n",
       "  }\n",
       "  th {\n",
       "    text-align: left;\n",
       "  }\n",
       "</style><div class='table-result-container'><table class='table-result'><thead style='background-color: white'><tr><th>id</th><th>name</th><th>screen_name</th><th>text</th><th>followers_count</th><th>location</th><th>geo</th><th>created_at</th><th>tweet</th><th>retweet</th><th>month</th><th>day</th><th>time</th><th>year</th><th>hour</th><th>minute</th><th>subjectivity</th><th>polarity</th><th>sentiment</th></tr></thead><tbody><tr><td>1562194217530757120</td><td>Steve McEllistrem</td><td>SteveMcEllis</td><td>we don t really need to make any sacrifices because of climate change. we can just leave all the suffering to our descendants.</td><td>113547</td><td>None</td><td>None</td><td>Tue Aug 23 21:45:00 +0000 2022</td><td>we don t really need to make any sacrifices because of climate change. we can just leave all the suffering to our descendants.</td><td>null</td><td>Aug</td><td>23</td><td>21:45:00</td><td>2022</td><td>21</td><td>45</td><td>0.2</td><td>0.2</td><td>Positive</td></tr><tr><td>1562194217685893120</td><td>Solaris House Music</td><td>SolarisHouseM</td><td>island in the sky via @youtube you want to see climate change... turn your eyes to our l</td><td>62</td><td>None</td><td>None</td><td>Tue Aug 23 21:45:00 +0000 2022</td><td>island in the sky via @youtube you want to see climate change... turn your eyes to our l</td><td>null</td><td>Aug</td><td>23</td><td>21:45:00</td><td>2022</td><td>21</td><td>45</td><td>0.0</td><td>0.0</td><td>Neutral</td></tr><tr><td>1562194221968154626</td><td>Cletus Anderson</td><td>CletusAnderson6</td><td>@gop look at the bill people before you think it's not going to help tackle climate change and help with inflation,</td><td>142</td><td>Upstate New York </td><td>None</td><td>Tue Aug 23 21:45:01 +0000 2022</td><td>@gop look at the bill people before you think it's not going to help tackle climate change and help with inflation,</td><td>null</td><td>Aug</td><td>23</td><td>21:45:01</td><td>2022</td><td>21</td><td>45</td><td>0.0</td><td>0.0</td><td>Neutral</td></tr><tr><td>1562194223386234881</td><td>MicroMonde</td><td>MondeMicro</td><td>rt @therealkeean these are part of the schematic drawings. they detail trudeau's plan to build an armoury for his new climate enforcement</td><td>1873</td><td>Canada</td><td>None</td><td>Tue Aug 23 21:45:01 +0000 2022</td><td></td><td> @therealkeean these are pa</td><td>Aug</td><td>23</td><td>21:45:01</td><td>2022</td><td>21</td><td>45</td><td>0.45454545454545453</td><td>0.13636363636363635</td><td>Positive</td></tr><tr><td>1562194223398473733</td><td>Consersative Guy49</td><td>WalterMatthew46</td><td>rt @felicity2024 could any of you name a bigger scam than climate change?</td><td>1282</td><td>Somewhere In The USA...</td><td>None</td><td>Tue Aug 23 21:45:01 +0000 2022</td><td></td><td> @felicity2024 could any of you name a bigger scam than climate change?</td><td>Aug</td><td>23</td><td>21:45:01</td><td>2022</td><td>21</td><td>45</td><td>0.5</td><td>0.0</td><td>Neutral</td></tr></tbody></table></div>"
      ]
     },
     "metadata": {
      "application/vnd.databricks.v1+output": {
       "addedWidgets": {},
       "aggData": [],
       "aggError": "",
       "aggOverflow": false,
       "aggSchema": [],
       "aggSeriesLimitReached": false,
       "aggType": "",
       "arguments": {},
       "columnCustomDisplayInfos": {},
       "data": [
        [
         "1562194217530757120",
         "Steve McEllistrem",
         "SteveMcEllis",
         "we don t really need to make any sacrifices because of climate change. we can just leave all the suffering to our descendants.",
         "113547",
         "None",
         "None",
         "Tue Aug 23 21:45:00 +0000 2022",
         "we don t really need to make any sacrifices because of climate change. we can just leave all the suffering to our descendants.",
         null,
         "Aug",
         "23",
         "21:45:00",
         "2022",
         "21",
         "45",
         0.2,
         0.2,
         "Positive"
        ],
        [
         "1562194217685893120",
         "Solaris House Music",
         "SolarisHouseM",
         "island in the sky via @youtube you want to see climate change... turn your eyes to our l",
         "62",
         "None",
         "None",
         "Tue Aug 23 21:45:00 +0000 2022",
         "island in the sky via @youtube you want to see climate change... turn your eyes to our l",
         null,
         "Aug",
         "23",
         "21:45:00",
         "2022",
         "21",
         "45",
         0,
         0,
         "Neutral"
        ],
        [
         "1562194221968154626",
         "Cletus Anderson",
         "CletusAnderson6",
         "@gop look at the bill people before you think it's not going to help tackle climate change and help with inflation,",
         "142",
         "Upstate New York ",
         "None",
         "Tue Aug 23 21:45:01 +0000 2022",
         "@gop look at the bill people before you think it's not going to help tackle climate change and help with inflation,",
         null,
         "Aug",
         "23",
         "21:45:01",
         "2022",
         "21",
         "45",
         0,
         0,
         "Neutral"
        ],
        [
         "1562194223386234881",
         "MicroMonde",
         "MondeMicro",
         "rt @therealkeean these are part of the schematic drawings. they detail trudeau's plan to build an armoury for his new climate enforcement",
         "1873",
         "Canada",
         "None",
         "Tue Aug 23 21:45:01 +0000 2022",
         "",
         " @therealkeean these are pa",
         "Aug",
         "23",
         "21:45:01",
         "2022",
         "21",
         "45",
         0.45454545454545453,
         0.13636363636363635,
         "Positive"
        ],
        [
         "1562194223398473733",
         "Consersative Guy49",
         "WalterMatthew46",
         "rt @felicity2024 could any of you name a bigger scam than climate change?",
         "1282",
         "Somewhere In The USA...",
         "None",
         "Tue Aug 23 21:45:01 +0000 2022",
         "",
         " @felicity2024 could any of you name a bigger scam than climate change?",
         "Aug",
         "23",
         "21:45:01",
         "2022",
         "21",
         "45",
         0.5,
         0,
         "Neutral"
        ]
       ],
       "datasetInfos": [],
       "dbfsResultPath": null,
       "isJsonSchema": true,
       "metadata": {},
       "overflow": false,
       "plotOptions": {
        "customPlotOptions": {},
        "displayType": "table",
        "pivotAggregation": null,
        "pivotColumns": null,
        "xColumns": null,
        "yColumns": null
       },
       "removedWidgets": [],
       "schema": [
        {
         "metadata": "{}",
         "name": "id",
         "type": "\"string\""
        },
        {
         "metadata": "{}",
         "name": "name",
         "type": "\"string\""
        },
        {
         "metadata": "{}",
         "name": "screen_name",
         "type": "\"string\""
        },
        {
         "metadata": "{}",
         "name": "text",
         "type": "\"string\""
        },
        {
         "metadata": "{}",
         "name": "followers_count",
         "type": "\"string\""
        },
        {
         "metadata": "{}",
         "name": "location",
         "type": "\"string\""
        },
        {
         "metadata": "{}",
         "name": "geo",
         "type": "\"string\""
        },
        {
         "metadata": "{}",
         "name": "created_at",
         "type": "\"string\""
        },
        {
         "metadata": "{}",
         "name": "tweet",
         "type": "\"string\""
        },
        {
         "metadata": "{}",
         "name": "retweet",
         "type": "\"string\""
        },
        {
         "metadata": "{}",
         "name": "month",
         "type": "\"string\""
        },
        {
         "metadata": "{}",
         "name": "day",
         "type": "\"string\""
        },
        {
         "metadata": "{}",
         "name": "time",
         "type": "\"string\""
        },
        {
         "metadata": "{}",
         "name": "year",
         "type": "\"string\""
        },
        {
         "metadata": "{}",
         "name": "hour",
         "type": "\"string\""
        },
        {
         "metadata": "{}",
         "name": "minute",
         "type": "\"string\""
        },
        {
         "metadata": "{}",
         "name": "subjectivity",
         "type": "\"double\""
        },
        {
         "metadata": "{}",
         "name": "polarity",
         "type": "\"double\""
        },
        {
         "metadata": "{}",
         "name": "sentiment",
         "type": "\"string\""
        }
       ],
       "type": "table"
      }
     },
     "output_type": "display_data"
    }
   ],
   "source": [
    "display(labelled_tweets.take(5))"
   ]
  },
  {
   "cell_type": "code",
   "execution_count": 0,
   "metadata": {
    "application/vnd.databricks.v1+cell": {
     "cellMetadata": {},
     "inputWidgets": {},
     "nuid": "e06f0a08-63e6-4b32-97f5-6760461ab1eb",
     "showTitle": false,
     "title": ""
    }
   },
   "outputs": [],
   "source": [
    "labelled_tweets.write.option('header', False).option('delimiter', '\\t').mode('overwrite').csv('/mnt/project/labelled_tweets')"
   ]
  },
  {
   "cell_type": "code",
   "execution_count": null,
   "metadata": {
    "application/vnd.databricks.v1+cell": {
     "cellMetadata": {},
     "inputWidgets": {},
     "nuid": "4579f071-4319-432c-8446-e2f2fd5f9f28",
     "showTitle": false,
     "title": ""
    }
   },
   "outputs": [],
   "source": [
    "display(labelled_tweets)"
   ]
  },
  {
   "cell_type": "markdown",
   "metadata": {
    "application/vnd.databricks.v1+cell": {
     "cellMetadata": {},
     "inputWidgets": {},
     "nuid": "230d6a99-4e32-4dca-b3c7-44820e1f406b",
     "showTitle": false,
     "title": ""
    }
   },
   "source": [
    "## 3. Feature Transformer: Tokenizer"
   ]
  },
  {
   "cell_type": "code",
   "execution_count": null,
   "metadata": {
    "application/vnd.databricks.v1+cell": {
     "cellMetadata": {},
     "inputWidgets": {},
     "nuid": "04996327-9505-472e-b85f-b251de673737",
     "showTitle": false,
     "title": ""
    }
   },
   "outputs": [],
   "source": [
    "tokenizer = Tokenizer(inputCol=\"text\", outputCol=\"tokens\")\n",
    "tweets_tokenized = tokenizer.transform(labelled_tweets)\n",
    "\n",
    "display(tweets_tokenized)"
   ]
  },
  {
   "cell_type": "markdown",
   "metadata": {
    "application/vnd.databricks.v1+cell": {
     "cellMetadata": {},
     "inputWidgets": {},
     "nuid": "de23e6e4-e721-4936-9288-b69c30029597",
     "showTitle": false,
     "title": ""
    }
   },
   "source": [
    "## 3. Feature Transformer: Stopword Removal"
   ]
  },
  {
   "cell_type": "code",
   "execution_count": null,
   "metadata": {
    "application/vnd.databricks.v1+cell": {
     "cellMetadata": {},
     "inputWidgets": {},
     "nuid": "e9cafbd4-3db2-4ef9-90eb-e9ebf540092c",
     "showTitle": false,
     "title": ""
    }
   },
   "outputs": [],
   "source": [
    "#remove stopwords from the review(list of words)\n",
    "\n",
    "stopword_remover = StopWordsRemover(inputCol=\"tokens\", outputCol=\"filtered\")\n",
    "tweets_stopword = stopword_remover.transform(tweets_tokenized)\n",
    "\n",
    "display(tweets_stopword)"
   ]
  },
  {
   "cell_type": "markdown",
   "metadata": {
    "application/vnd.databricks.v1+cell": {
     "cellMetadata": {},
     "inputWidgets": {},
     "nuid": "670a5525-f791-421f-8584-a9a977b3c34f",
     "showTitle": false,
     "title": ""
    }
   },
   "source": [
    "## 4. Feature Transformer: CountVectorizer (TF - Term Frequency)"
   ]
  },
  {
   "cell_type": "code",
   "execution_count": null,
   "metadata": {
    "application/vnd.databricks.v1+cell": {
     "cellMetadata": {},
     "inputWidgets": {},
     "nuid": "7eb35494-1ec5-4f92-8636-b5db176a7a7a",
     "showTitle": false,
     "title": ""
    }
   },
   "outputs": [],
   "source": [
    "# vocabSize: number of unique words in the whole dataset;\n",
    "# in output, length = vocabSize; indices: indices of the words; values: term frequency within the tweet\n",
    "cv = CountVectorizer(vocabSize=2**16, inputCol=\"filtered\", outputCol='cv')\n",
    "cv_model = cv.fit(tweets_stopword)\n",
    "tweets_cv = cv_model.transform(tweets_stopword)\n",
    "\n",
    "display(tweets_cv)"
   ]
  },
  {
   "cell_type": "markdown",
   "metadata": {
    "application/vnd.databricks.v1+cell": {
     "cellMetadata": {},
     "inputWidgets": {},
     "nuid": "f6fd3e36-0a34-4c3c-b17a-58027a4792e3",
     "showTitle": false,
     "title": ""
    }
   },
   "source": [
    "## 5. Feature Transformer: TF-IDF Vectorization\n",
    "\n",
    "\n",
    "TF-IDF: Term Frequency - Inverse Document Frequency"
   ]
  },
  {
   "cell_type": "code",
   "execution_count": null,
   "metadata": {
    "application/vnd.databricks.v1+cell": {
     "cellMetadata": {},
     "inputWidgets": {},
     "nuid": "ce03300e-6bec-4628-9d66-21626be8d3bd",
     "showTitle": false,
     "title": ""
    }
   },
   "outputs": [],
   "source": [
    "idf = IDF(inputCol='cv', outputCol=\"features\", minDocFreq=5) #minDocFreq: remove sparse terms\n",
    "idf_model = idf.fit(tweets_cv)\n",
    "tweets_idf = idf_model.transform(tweets_cv)\n",
    "\n",
    "display(tweets_idf)"
   ]
  },
  {
   "cell_type": "code",
   "execution_count": 0,
   "metadata": {
    "application/vnd.databricks.v1+cell": {
     "cellMetadata": {},
     "inputWidgets": {},
     "nuid": "556cada0-25e8-4b6f-820e-020ecec222ff",
     "showTitle": false,
     "title": ""
    }
   },
   "outputs": [],
   "source": [
    "# Use 90% cases for training, 10% cases for testing\n",
    "# train, test = tweets_clean.randomSplit([0.9, 0.1], seed=20200819)\n",
    "train, test = labelled_tweets.sampleBy(\"label\", fraction = [0:0.42, 1: 0.37，2: 0.21], seed = 2022)\n",
    "train_positive = train[train['sentiment'] == 'Positive']\n",
    "\n",
    "# Create transformers for the ML pipeline\n",
    "tokenizer = Tokenizer(inputCol=\"text\", outputCol=\"tokens\")\n",
    "stopword_remover = StopWordsRemover(inputCol=\"tokens\", outputCol=\"filtered\")\n",
    "cv = CountVectorizer(vocabSize=2**16, inputCol=\"filtered\", outputCol='cv')\n",
    "idf = IDF(inputCol='cv', outputCol=\"1gram_idf\", minDocFreq=5) #minDocFreq: remove sparse terms\n",
    "\n",
    "pipeline = Pipeline(stages=[tokenizer, stopword_remover, cv, idf])\n",
    "\n",
    "pipeline_model = pipeline.fit(train)\n",
    "predictions = pipeline_model.transform(test)"
   ]
  },
  {
   "cell_type": "code",
   "execution_count": null,
   "metadata": {
    "application/vnd.databricks.v1+cell": {
     "cellMetadata": {},
     "inputWidgets": {},
     "nuid": "abebe3b3-a3d9-486b-a7cf-136ec6a631c1",
     "showTitle": false,
     "title": ""
    }
   },
   "outputs": [],
   "source": [
    "train = labelled_tweets.sampleBy(\"label\", fractions = {0:0.8, 1: 0.8, 2: 0.8}, seed = 2022)\n",
    "test = labelled_tweets.subtract(train)\n",
    "train_positive = train[train['sentiment'] == 'Positive']\n",
    "\n",
    "display(train_positive)"
   ]
  },
  {
   "cell_type": "code",
   "execution_count": 0,
   "metadata": {
    "application/vnd.databricks.v1+cell": {
     "cellMetadata": {},
     "inputWidgets": {},
     "nuid": "b73c1330-35a3-4f3a-bb6a-9b1dcee8f391",
     "showTitle": false,
     "title": ""
    }
   },
   "outputs": [
    {
     "data": {
      "text/plain": [
       "+---------+-----+\n",
       "|sentiment|count|\n",
       "+---------+-----+\n",
       "| Positive|23555|\n",
       "|  Neutral|20396|\n",
       "| Negative|11518|\n",
       "+---------+-----+\n",
       "\n"
      ]
     },
     "metadata": {
      "application/vnd.databricks.v1+output": {
       "addedWidgets": {},
       "arguments": {},
       "data": "+---------+-----+\n|sentiment|count|\n+---------+-----+\n| Positive|23555|\n|  Neutral|20396|\n| Negative|11518|\n+---------+-----+\n\n",
       "datasetInfos": [],
       "metadata": {},
       "removedWidgets": [],
       "type": "ansi"
      }
     },
     "output_type": "display_data"
    }
   ],
   "source": [
    "train.groupby('sentiment').count().show()"
   ]
  },
  {
   "cell_type": "code",
   "execution_count": 0,
   "metadata": {
    "application/vnd.databricks.v1+cell": {
     "cellMetadata": {},
     "inputWidgets": {},
     "nuid": "695bc2fe-b558-4de3-b449-5452da3c0525",
     "showTitle": false,
     "title": ""
    }
   },
   "outputs": [
    {
     "data": {
      "text/plain": [
       "+---------+-----+\n",
       "|sentiment|count|\n",
       "+---------+-----+\n",
       "| Positive| 5886|\n",
       "|  Neutral| 5086|\n",
       "| Negative| 2835|\n",
       "+---------+-----+\n",
       "\n"
      ]
     },
     "metadata": {
      "application/vnd.databricks.v1+output": {
       "addedWidgets": {},
       "arguments": {},
       "data": "+---------+-----+\n|sentiment|count|\n+---------+-----+\n| Positive| 5886|\n|  Neutral| 5086|\n| Negative| 2835|\n+---------+-----+\n\n",
       "datasetInfos": [],
       "metadata": {},
       "removedWidgets": [],
       "type": "ansi"
      }
     },
     "output_type": "display_data"
    }
   ],
   "source": [
    "test.groupby('sentiment').count().show()"
   ]
  },
  {
   "cell_type": "code",
   "execution_count": 0,
   "metadata": {
    "application/vnd.databricks.v1+cell": {
     "cellMetadata": {},
     "inputWidgets": {},
     "nuid": "1cf82d9c-84cf-4519-95a5-fea14e20f786",
     "showTitle": false,
     "title": ""
    }
   },
   "outputs": [
    {
     "data": {
      "text/plain": [
       "+-------------+------------------+\n",
       "|    vocabList|            counts|\n",
       "+-------------+------------------+\n",
       "|           rt| 15663.33937652337|\n",
       "|      climate|22398.070295254707|\n",
       "|       change|25738.839080503945|\n",
       "|@therealkeean|16753.516922000766|\n",
       "|          new|16265.373069663437|\n",
       "|       people|14432.421659922304|\n",
       "|          amp|14691.495364352908|\n",
       "|        plans|17885.133932930752|\n",
       "|      trudeau|13444.527356677936|\n",
       "|         many|11481.758576548906|\n",
       "|      change?| 10826.95126003317|\n",
       "|      change,|10722.910713361787|\n",
       "|       police| 10636.80202249655|\n",
       "|   government|10279.912831724461|\n",
       "|      counter| 10091.76519041085|\n",
       "|         leak| 9579.149591005958|\n",
       "|    exclusive|  9577.03494558327|\n",
       "|  @drelidavid|  9316.57554949759|\n",
       "|    mortality| 8993.820106364019|\n",
       "|            h|  8984.99041552474|\n",
       "+-------------+------------------+\n",
       "only showing top 20 rows\n",
       "\n"
      ]
     },
     "metadata": {
      "application/vnd.databricks.v1+output": {
       "addedWidgets": {},
       "arguments": {},
       "data": "+-------------+------------------+\n|    vocabList|            counts|\n+-------------+------------------+\n|           rt| 15663.33937652337|\n|      climate|22398.070295254707|\n|       change|25738.839080503945|\n|@therealkeean|16753.516922000766|\n|          new|16265.373069663437|\n|       people|14432.421659922304|\n|          amp|14691.495364352908|\n|        plans|17885.133932930752|\n|      trudeau|13444.527356677936|\n|         many|11481.758576548906|\n|      change?| 10826.95126003317|\n|      change,|10722.910713361787|\n|       police| 10636.80202249655|\n|   government|10279.912831724461|\n|      counter| 10091.76519041085|\n|         leak| 9579.149591005958|\n|    exclusive|  9577.03494558327|\n|  @drelidavid|  9316.57554949759|\n|    mortality| 8993.820106364019|\n|            h|  8984.99041552474|\n+-------------+------------------+\nonly showing top 20 rows\n\n",
       "datasetInfos": [],
       "metadata": {},
       "removedWidgets": [],
       "type": "ansi"
      }
     },
     "output_type": "display_data"
    }
   ],
   "source": [
    "total_counts = tweets_idf.select('features').rdd\\\n",
    "                    .map(lambda row: row['features'].toArray())\\\n",
    "                    .reduce(lambda x,y: [x[i]+y[i] for i in range(len(y))])\n",
    "\n",
    "vocabList = cv_model.vocabulary\n",
    "d = {'vocabList':vocabList,'counts':total_counts}\n",
    "\n",
    "spark.createDataFrame(np.array(list(d.values())).T.tolist(),list(d.keys())).show()"
   ]
  },
  {
   "cell_type": "code",
   "execution_count": 0,
   "metadata": {
    "application/vnd.databricks.v1+cell": {
     "cellMetadata": {},
     "inputWidgets": {},
     "nuid": "2a7d6ae5-7582-46f1-8c8c-e879e7068088",
     "showTitle": false,
     "title": ""
    }
   },
   "outputs": [],
   "source": [
    "sentenceData = spark.createDataFrame([\n",
    "    (0, \"Python python Spark Spark\"),\n",
    "    (1, \"Python SQL\")],\n",
    " [\"document\", \"sentence\"])\n",
    "\n",
    "tokenizer = Tokenizer(inputCol=\"sentence\", outputCol=\"words\")\n",
    "vectorizer  = CountVectorizer(inputCol=\"words\", outputCol=\"rawFeatures\")\n",
    "\n",
    "idf = IDF(inputCol=\"rawFeatures\", outputCol=\"features\")\n",
    "\n",
    "pipeline = Pipeline(stages=[tokenizer, vectorizer, idf])\n",
    "\n",
    "model = pipeline.fit(sentenceData)"
   ]
  },
  {
   "cell_type": "code",
   "execution_count": 0,
   "metadata": {
    "application/vnd.databricks.v1+cell": {
     "cellMetadata": {},
     "inputWidgets": {},
     "nuid": "910a85ed-60d0-4e0a-b80b-06268c93cf8a",
     "showTitle": false,
     "title": ""
    }
   },
   "outputs": [],
   "source": [
    "def wordCloud(model, data):\n",
    "    total_counts = model.transform(data)\\\n",
    "                        .select('rawFeatures').rdd\\\n",
    "                        .map(lambda row: row['rawFeatures'].toArray())\\\n",
    "                        .reduce(lambda x,y: [x[i]+y[i] for i in range(len(y))])\n",
    "\n",
    "    idf_score = model.transform(data)\\\n",
    "                        .select('features').rdd\\\n",
    "                        .map(lambda row: row['features'].toArray())\\\n",
    "                        .reduce(lambda x,y: [x[i]+y[i] for i in range(len(y))])\n",
    "\n",
    "    vocabList = model.stages[1].vocabulary\n",
    "    d = {'vocabList':vocabList,'counts':total_counts, 'idf': idf_score}\n",
    "\n",
    "    return spark.createDataFrame(np.array(list(d.values())).T.tolist(),list(d.keys()))"
   ]
  },
  {
   "cell_type": "code",
   "execution_count": 0,
   "metadata": {
    "application/vnd.databricks.v1+cell": {
     "cellMetadata": {},
     "inputWidgets": {},
     "nuid": "05cbb267-6c23-4b64-9343-717c699d74ca",
     "showTitle": false,
     "title": ""
    }
   },
   "outputs": [
    {
     "data": {
      "text/plain": [
       "+---------+------+------------------+\n",
       "|vocabList|counts|               idf|\n",
       "+---------+------+------------------+\n",
       "|   python|   3.0|               0.0|\n",
       "|    spark|   2.0|0.8109302162163288|\n",
       "|      sql|   1.0|0.4054651081081644|\n",
       "+---------+------+------------------+\n",
       "\n"
      ]
     },
     "metadata": {
      "application/vnd.databricks.v1+output": {
       "addedWidgets": {},
       "arguments": {},
       "data": "+---------+------+------------------+\n|vocabList|counts|               idf|\n+---------+------+------------------+\n|   python|   3.0|               0.0|\n|    spark|   2.0|0.8109302162163288|\n|      sql|   1.0|0.4054651081081644|\n+---------+------+------------------+\n\n",
       "datasetInfos": [],
       "metadata": {},
       "removedWidgets": [],
       "type": "ansi"
      }
     },
     "output_type": "display_data"
    }
   ],
   "source": [
    "wordCloud(model, sentenceData).show()"
   ]
  },
  {
   "cell_type": "code",
   "execution_count": 0,
   "metadata": {
    "application/vnd.databricks.v1+cell": {
     "cellMetadata": {},
     "inputWidgets": {},
     "nuid": "998c9405-5cdb-404f-ba63-525d5175d660",
     "showTitle": false,
     "title": ""
    }
   },
   "outputs": [
    {
     "data": {
      "text/plain": [
       "+---------+------+------------------+\n",
       "|vocabList|counts|               idf|\n",
       "+---------+------+------------------+\n",
       "|   python|   3.0|               0.0|\n",
       "|    spark|   2.0|0.8109302162163288|\n",
       "|      sql|   1.0|0.4054651081081644|\n",
       "+---------+------+------------------+\n",
       "\n"
      ]
     },
     "metadata": {
      "application/vnd.databricks.v1+output": {
       "addedWidgets": {},
       "arguments": {},
       "data": "+---------+------+------------------+\n|vocabList|counts|               idf|\n+---------+------+------------------+\n|   python|   3.0|               0.0|\n|    spark|   2.0|0.8109302162163288|\n|      sql|   1.0|0.4054651081081644|\n+---------+------+------------------+\n\n",
       "datasetInfos": [],
       "metadata": {},
       "removedWidgets": [],
       "type": "ansi"
      }
     },
     "output_type": "display_data"
    }
   ],
   "source": [
    "total_counts = model.transform(sentenceData)\\\n",
    "                    .select('rawFeatures').rdd\\\n",
    "                    .map(lambda row: row['rawFeatures'].toArray())\\\n",
    "                    .reduce(lambda x,y: [x[i]+y[i] for i in range(len(y))])\n",
    "\n",
    "idf_score = model.transform(sentenceData)\\\n",
    "                    .select('features').rdd\\\n",
    "                    .map(lambda row: row['features'].toArray())\\\n",
    "                    .reduce(lambda x,y: [x[i]+y[i] for i in range(len(y))])\n",
    "\n",
    "vocabList = model.stages[1].vocabulary\n",
    "d = {'vocabList':vocabList,'counts':total_counts, 'idf': idf_score}\n",
    "\n",
    "spark.createDataFrame(np.array(list(d.values())).T.tolist(),list(d.keys())).show()"
   ]
  },
  {
   "cell_type": "code",
   "execution_count": null,
   "metadata": {
    "application/vnd.databricks.v1+cell": {
     "cellMetadata": {},
     "inputWidgets": {},
     "nuid": "a6cd8b56-f50c-414d-95a9-d8657158d138",
     "showTitle": false,
     "title": ""
    }
   },
   "outputs": [],
   "source": [
    "total_counts = model.transform(sentenceData)\\\n",
    "                    .select('rawFeatures').rdd\\\n",
    "                    .map(lambda row: row['rawFeatures'].toArray())\\\n",
    "                    .reduce(lambda x,y: [x[i]+y[i] for i in range(len(y))])\n",
    "\n",
    "vocabList = model.stages[1].vocabulary\n",
    "d = {'vocabList':vocabList,'counts':total_counts}\n",
    "\n",
    "spark.createDataFrame(np.array(list(d.values())).T.tolist(),list(d.keys())).show()\n",
    "\n",
    "cv_model.vocabulary"
   ]
  },
  {
   "cell_type": "markdown",
   "metadata": {
    "application/vnd.databricks.v1+cell": {
     "cellMetadata": {},
     "inputWidgets": {},
     "nuid": "26ca9eba-ba52-4cb7-8fbe-bab6ce81dce2",
     "showTitle": false,
     "title": ""
    }
   },
   "source": [
    "## 6. Label Encoder"
   ]
  },
  {
   "cell_type": "code",
   "execution_count": null,
   "metadata": {
    "application/vnd.databricks.v1+cell": {
     "cellMetadata": {},
     "inputWidgets": {},
     "nuid": "13214061-ee3a-4010-a262-a5589e02b140",
     "showTitle": false,
     "title": ""
    }
   },
   "outputs": [],
   "source": [
    "label_encoder = StringIndexer(inputCol = \"sentiment\", outputCol = \"label\") \n",
    "# NOTE: sentiment and labeles maybe different\n",
    "le_model = label_encoder.fit(tweets_idf)\n",
    "tweets_label = le_model.transform(tweets_idf)\n",
    "\n",
    "display(tweets_label)"
   ]
  },
  {
   "cell_type": "markdown",
   "metadata": {
    "application/vnd.databricks.v1+cell": {
     "cellMetadata": {},
     "inputWidgets": {},
     "nuid": "4c584afe-952f-4d9b-beb2-b635e34c80e2",
     "showTitle": false,
     "title": ""
    }
   },
   "source": [
    "## 7. Model Training: Logistic Regression Classifier"
   ]
  },
  {
   "cell_type": "code",
   "execution_count": null,
   "metadata": {
    "application/vnd.databricks.v1+cell": {
     "cellMetadata": {},
     "inputWidgets": {},
     "nuid": "b5ac8516-3e62-459b-bfa1-5b8b95fc32c1",
     "showTitle": false,
     "title": ""
    }
   },
   "outputs": [],
   "source": [
    "lr = LogisticRegression(maxIter=100)\n",
    "\n",
    "lr_model = lr.fit(tweets_label)\n",
    "\n",
    "predictions = lr_model.transform(tweets_label) # when using transform, will give label and prob; if use predict, will only get labels\n",
    "\n",
    "display(predictions)"
   ]
  },
  {
   "cell_type": "code",
   "execution_count": 0,
   "metadata": {
    "application/vnd.databricks.v1+cell": {
     "cellMetadata": {},
     "inputWidgets": {},
     "nuid": "c7cc92b4-d720-4a0a-96e4-89e60bbed1d8",
     "showTitle": false,
     "title": ""
    }
   },
   "outputs": [],
   "source": [
    "from pyspark.ml.feature import NGram, VectorAssembler, StopWordsRemover, HashingTF, IDF, Tokenizer, StringIndexer\n",
    "from pyspark.ml.classification import LogisticRegression\n",
    "from pyspark.ml import Pipeline\n",
    "from pyspark.ml.evaluation import BinaryClassificationEvaluator\n",
    "\n",
    "# Use 90% cases for training, 10% cases for testing\n",
    "train, test = tweets_clean.randomSplit([0.9, 0.1], seed=20200819)\n",
    "# Stratified tweets_clean.sampleBy(\"label\", fraction = [0:0.9, 1: 0.1], seed = 2022)\n",
    "\n",
    "# Create transformers for the ML pipeline\n",
    "tokenizer = Tokenizer(inputCol=\"tweet\", outputCol=\"tokens\")\n",
    "stopword_remover = StopWordsRemover(inputCol=\"tokens\", outputCol=\"filtered\")\n",
    "cv = CountVectorizer(vocabSize=2**16, inputCol=\"filtered\", outputCol='cv')\n",
    "idf = IDF(inputCol='cv', outputCol=\"1gram_idf\", minDocFreq=5) #minDocFreq: remove sparse terms\n",
    "assembler = VectorAssembler(inputCols=[\"1gram_idf\"], outputCol=\"features\")\n",
    "label_encoder= StringIndexer(inputCol = \"sentiment\", outputCol = \"label\")\n",
    "lr = LogisticRegression(maxIter=100)\n",
    "pipeline = Pipeline(stages=[tokenizer, stopword_remover, cv, idf, assembler, label_encoder, lr])\n",
    "\n",
    "pipeline_model = pipeline.fit(train)\n",
    "predictions = pipeline_model.transform(test)\n",
    "\n",
    "evaluator = BinaryClassificationEvaluator(rawPredictionCol=\"rawPrediction\")\n",
    "accuracy = predictions.filter(predictions.label == predictions.prediction).count() / float(test.count())\n",
    "roc_auc = evaluator.evaluate(predictions)\n",
    "\n",
    "print(\"Accuracy Score: {0:.4f}\".format(accuracy))\n",
    "print(\"ROC-AUC: {0:.4f}\".format(roc_auc))"
   ]
  }
 ],
 "metadata": {
  "application/vnd.databricks.v1+notebook": {
   "dashboards": [],
   "language": "python",
   "notebookMetadata": {
    "pythonIndentUnit": 4
   },
   "notebookName": "twitter_sentiment_02analysis",
   "notebookOrigID": 2343394957575341,
   "widgets": {}
  },
  "kernelspec": {
   "display_name": "Python 3 (ipykernel)",
   "language": "python",
   "name": "python3"
  },
  "language_info": {
   "codemirror_mode": {
    "name": "ipython",
    "version": 3
   },
   "file_extension": ".py",
   "mimetype": "text/x-python",
   "name": "python",
   "nbconvert_exporter": "python",
   "pygments_lexer": "ipython3",
   "version": "3.9.12"
  }
 },
 "nbformat": 4,
 "nbformat_minor": 1
}
